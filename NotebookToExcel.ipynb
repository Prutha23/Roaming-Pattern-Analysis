{
 "cells": [
  {
   "cell_type": "code",
   "execution_count": null,
   "metadata": {},
   "outputs": [],
   "source": [
    "import pandas as pd\n",
    "print(\"Testing\")\n",
    "excel_file = pd.ExcelFile('project_data.xlsx')\n",
    "print(excel_file.sheet_names)\n",
    "df2 = excel_file.parse('Sheet2')\n",
    "df3 = excel_file.parse('Sheet3')\n",
    "df4 = excel_file.parse('Sheet4')\n",
    "df5 = excel_file.parse('Sheet5')\n",
    "df6 = excel_file.parse('Sheet6')\n",
    "df7 = excel_file.parse('Sheet7')\n",
    "df8 = excel_file.parse('Sheet8')\n",
    "df9 = excel_file.parse('Sheet9')\n",
    "df10 = excel_file.parse('Sheet10')\n",
    "print(df2.head())\n",
    "print(df3.head())\n",
    "print(df4.head())\n",
    "print(df5.head())\n",
    "print(df6.head())\n",
    "print(df7.head())\n",
    "print(df8.head())\n",
    "print(df9.head())\n",
    "print(df10.head())"
   ]
  },
  {
   "cell_type": "code",
   "execution_count": 11,
   "metadata": {},
   "outputs": [
    {
     "name": "stdout",
     "output_type": "stream",
     "text": [
      "Enter ID:201801149\n",
      "Student id: 201801149 \n",
      "UFP: 377 \n",
      "CAFP: 1.01 \n",
      "FP: 380.77\n"
     ]
    }
   ],
   "source": [
    "id = input('Enter ID:')\n",
    "\n",
    "#calculating UAF : 4, 5,4,10,7\n",
    "\n",
    "ufp = int(id[:2])*4 + int(id[2:4])*5 + int(id[4:6])*4 + int(id[6:8])*10 + int(id[8])*7\n",
    "\n",
    "#CAFP will be same for all\n",
    "\n",
    "cafp = 1.01\n",
    "\n",
    "#calculating FP\n",
    "fp = ufp * cafp\n",
    "\n",
    "print(\"Student id:\",id,\"\\nUFP:\",ufp,\"\\nCAFP:\",cafp,\"\\nFP:\",fp)\n"
   ]
  },
  {
   "cell_type": "code",
   "execution_count": null,
   "metadata": {},
   "outputs": [],
   "source": [
    "#import time \n",
    "df2['Wifi Id'][(df2['HH:MM:SS']> pd.to_datetime('10:00:00').time()) & (df2['HH:MM:SS']<= pd.to_datetime('11:00:00').time()) ]\n"
   ]
  },
  {
   "cell_type": "code",
   "execution_count": null,
   "metadata": {},
   "outputs": [],
   "source": [
    "df3=df[df['Date']=='2018-10-03']\n",
    "\n",
    "print(df3)\n"
   ]
  },
  {
   "cell_type": "code",
   "execution_count": null,
   "metadata": {},
   "outputs": [],
   "source": [
    "df3['Wifi Id'][(df3['HH:MM:SS']> pd.to_datetime('08:00:00').time()) & (df3['HH:MM:SS']<= pd.to_datetime('09:00:00').time()) ]\n"
   ]
  },
  {
   "cell_type": "code",
   "execution_count": null,
   "metadata": {},
   "outputs": [],
   "source": [
    "#creating and loading workbook\n",
    "from openpyxl import Workbook, load_workbook\n",
    "from openpyxl.drawing.image import Image\n",
    "from openpyxl.utils.dataframe import dataframe_to_rows\n",
    "\n",
    "# Create new workbook\n",
    "wb = Workbook()\n",
    "wb.save('writetoexcel.xlsx')\n",
    "\n",
    "# Load existing workbook\n",
    "wb = load_workbook('writetoexcel.xlsx')\n",
    "print(\"test\")"
   ]
  },
  {
   "cell_type": "code",
   "execution_count": null,
   "metadata": {},
   "outputs": [],
   "source": [
    "#writing into exce\n",
    "sheet1 = wb.create_sheet('sheet1',0)\n",
    "active = wb['sheet1']\n",
    "# Write dataframe to active worksheet\n",
    "for x in dataframe_to_rows(df3):\n",
    "    active.append(x)\n",
    "    \n",
    "# Save workbook to write\n",
    "wb.save('writetoexcel.xlsx')\n",
    "print('done')"
   ]
  }
 ],
 "metadata": {
  "kernelspec": {
   "display_name": "Python 3",
   "language": "python",
   "name": "python3"
  },
  "language_info": {
   "codemirror_mode": {
    "name": "ipython",
    "version": 3
   },
   "file_extension": ".py",
   "mimetype": "text/x-python",
   "name": "python",
   "nbconvert_exporter": "python",
   "pygments_lexer": "ipython3",
   "version": "3.7.3"
  }
 },
 "nbformat": 4,
 "nbformat_minor": 2
}
